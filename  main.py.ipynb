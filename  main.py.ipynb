{
 "cells": [
  {
   "cell_type": "code",
   "execution_count": null,
   "metadata": {},
   "outputs": [],
   "source": [
    "import cv2 as cv\n",
    "import numpy as np\n",
    "import dlib\n",
    "\n",
    "cap=cv.VideoCapture(0)\n",
    "detector=dlib.get_frontal_face_detector()\n",
    "predictor=dlib.shape_predictor(\"shape_predictor_68_face_landmarks.dat\")\n",
    "\n",
    "while True:\n",
    "    _,frame=cap.read()\n",
    "    gray=cv.cvtColor(frame,cv.COLOR_BGR2GRAY)\n",
    "    faces=detector(gray)\n",
    "    for face in faces:\n",
    "        print(face)\n",
    "        x,y=face.left() ,face.top()\n",
    "        x1,y1=face.right(), face.bottom()\n",
    "        cv.rectangle(frame,(x,y),(x1,y1),(0,0,255),2)\n",
    "        landmarks=predictor(gray,face)\n",
    "        print(landmarks)\n",
    "        x=landmarks.part(60).x\n",
    "        y=landmarks.part(60).y\n",
    "        cv.circle(frame,(x,y),3,(0,0,255),2)\n",
    "    cv.imshow(\"Frame\",frame)\n",
    "\n",
    "    key=cv.waitKey(0)\n",
    "    if key == 27:\n",
    "        break\n",
    "cap.release()\n",
    "cv.destroyAllWindows()"
   ]
  },
  {
   "cell_type": "code",
   "execution_count": null,
   "metadata": {},
   "outputs": [],
   "source": []
  },
  {
   "cell_type": "code",
   "execution_count": null,
   "metadata": {},
   "outputs": [],
   "source": []
  }
 ],
 "metadata": {
  "kernelspec": {
   "display_name": "Python 3",
   "language": "python",
   "name": "python3"
  },
  "language_info": {
   "codemirror_mode": {
    "name": "ipython",
    "version": 3
   },
   "file_extension": ".py",
   "mimetype": "text/x-python",
   "name": "python",
   "nbconvert_exporter": "python",
   "pygments_lexer": "ipython3",
   "version": "3.8.3"
  }
 },
 "nbformat": 4,
 "nbformat_minor": 4
}
