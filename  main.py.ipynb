{
 "cells": [
  {
   "cell_type": "code",
   "execution_count": null,
   "metadata": {},
   "outputs": [],
   "source": [
    "import cv2 as cv\n",
    "import numpy as np\n",
    "import dlib\n",
    "from math import hypot\n",
    "\n",
    "cap=cv.VideoCapture(0)\n",
    "detector=dlib.get_frontal_face_detector()\n",
    "predictor=dlib.shape_predictor(\"shape_predictor_68_face_landmarks.dat\")\n",
    "\n",
    "def midpoint(p1,p2):\n",
    "    return int((p1.x+p2.x)/2) ,int((p1.y + p2.y)/2)\n",
    "font = cv.FONT_HERSHEY_PLAIN\n",
    "\n",
    "def get_blinking_ratio(eye_points,facial_landmarks):\n",
    "    \n",
    "    left_point = (facial_landmarks.part(eye_points[0]).x ,facial_landmarks.part(eye_points[0]).y)\n",
    "    right_point = (facial_landmarks.part(eye_points[3]).x , facial_landmarks.part(eye_points[3]).y)\n",
    "    center_top = midpoint(facial_landmarks.part(eye_points[1]) , facial_landmarks.part(eye_points[2]))\n",
    "    center_bottom = midpoint(facial_landmarks.part(eye_points[5]) , facial_landmarks.part(eye_points[4]))\n",
    "    hor_line = cv.line(frame , left_point ,right_point ,(0,255,0),2)\n",
    "    ver_line = cv.line(frame , center_top ,center_bottom , (0,255,2),2)\n",
    "    ### when we will get closer we will get high number vice versa\n",
    "    ver_line_length = hypot((center_top[0]- center_bottom[0]) , (center_top[1]-center_bottom[1]))\n",
    "    hor_line_length = hypot((left_point[0] - right_point[0]), (left_point[1] - right_point[1]))\n",
    "    #Eye Blinking Ratio\n",
    "    ratio = (hor_line_length / ver_line_length)\n",
    "    \n",
    "    return ratio\n",
    "\n",
    "while True:\n",
    "    _,frame=cap.read()\n",
    "    gray=cv.cvtColor(frame,cv.COLOR_BGR2GRAY)\n",
    "    faces=detector(gray)\n",
    "    for face in faces:\n",
    "        \n",
    "         \n",
    "        x,y=face.left() ,face.top()\n",
    "       # x1,y1=face.right(), face.bottom()\n",
    "       # cv.rectangle(frame,(x,y),(x1,y1),(0,255,0),2)\n",
    "        landmarks = predictor(gray,face)\n",
    "        left_point = (landmarks.part(36).x ,landmarks.part(36).y)\n",
    "        right_point = (landmarks.part(39).x , landmarks.part(39).y)\n",
    "        center_top = midpoint(landmarks.part(37) , landmarks.part(38))\n",
    "        center_bottom = midpoint(landmarks.part(41) , landmarks.part(40))\n",
    "        hor_line = cv.line(frame , left_point ,right_point ,(0,255,0),2)\n",
    "        ver_line = cv.line(frame , center_top ,center_bottom , (0,255,2),2)\n",
    "        ### when we will get closer we will get high number vice versa\n",
    "        ver_line_length = hypot((center_top[0]- center_bottom[0]) , (center_top[1]-center_bottom[1]))\n",
    "        hor_line_length = hypot((left_point[0] - right_point[0]), (left_point[1] - right_point[1]))\n",
    "        #Eye Blinking Ratio\n",
    "        ratio = (hor_line_length / ver_line_length)\n",
    "    \n",
    "        left_eye_ratio = get_blinking_ratio([36,37,38,39,40,41],landmarks)\n",
    "        right_eye_ratio = get_blinking_ratio([42,43,44,45,46,47],landmarks)\n",
    "        blinking_ratio = (left_eye_ratio + right_eye_ratio)/2\n",
    "\n",
    "        \n",
    "        if blinking_ratio > 5.7:\n",
    "            cv.putText(frame,\"BLINKING\",(50,150) ,font , (255,0,0))\n",
    "    \n",
    "    cv.imshow(\"Frame\",frame)\n",
    "\n",
    "    key=cv.waitKey(1)\n",
    "    if key == 27:\n",
    "        break\n",
    "cap.release()\n",
    "cv.destroyAllWindows()"
   ]
  },
  {
   "cell_type": "code",
   "execution_count": null,
   "metadata": {},
   "outputs": [],
   "source": [
    " "
   ]
  },
  {
   "cell_type": "code",
   "execution_count": null,
   "metadata": {},
   "outputs": [],
   "source": []
  },
  {
   "cell_type": "code",
   "execution_count": null,
   "metadata": {},
   "outputs": [],
   "source": []
  }
 ],
 "metadata": {
  "kernelspec": {
   "display_name": "Python 3",
   "language": "python",
   "name": "python3"
  },
  "language_info": {
   "codemirror_mode": {
    "name": "ipython",
    "version": 3
   },
   "file_extension": ".py",
   "mimetype": "text/x-python",
   "name": "python",
   "nbconvert_exporter": "python",
   "pygments_lexer": "ipython3",
   "version": "3.8.3"
  }
 },
 "nbformat": 4,
 "nbformat_minor": 4
}
